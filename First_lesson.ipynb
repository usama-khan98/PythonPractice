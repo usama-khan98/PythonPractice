{
 "cells": [
  {
   "cell_type": "code",
   "execution_count": 1,
   "id": "alternate-elements",
   "metadata": {},
   "outputs": [
    {
     "name": "stdout",
     "output_type": "stream",
     "text": [
      "Hello World\n"
     ]
    }
   ],
   "source": [
    "print('Hello World')"
   ]
  },
  {
   "cell_type": "code",
   "execution_count": 2,
   "id": "czech-extraction",
   "metadata": {},
   "outputs": [
    {
     "data": {
      "text/plain": [
       "int"
      ]
     },
     "execution_count": 2,
     "metadata": {},
     "output_type": "execute_result"
    }
   ],
   "source": [
    "type(11)"
   ]
  },
  {
   "cell_type": "code",
   "execution_count": 3,
   "id": "norwegian-cheese",
   "metadata": {},
   "outputs": [
    {
     "data": {
      "text/plain": [
       "float"
      ]
     },
     "execution_count": 3,
     "metadata": {},
     "output_type": "execute_result"
    }
   ],
   "source": [
    "type(21.25)"
   ]
  },
  {
   "cell_type": "code",
   "execution_count": 4,
   "id": "legal-sunday",
   "metadata": {},
   "outputs": [
    {
     "data": {
      "text/plain": [
       "str"
      ]
     },
     "execution_count": 4,
     "metadata": {},
     "output_type": "execute_result"
    }
   ],
   "source": [
    "type('hello')"
   ]
  },
  {
   "cell_type": "code",
   "execution_count": 5,
   "id": "straight-pillow",
   "metadata": {},
   "outputs": [
    {
     "data": {
      "text/plain": [
       "bool"
      ]
     },
     "execution_count": 5,
     "metadata": {},
     "output_type": "execute_result"
    }
   ],
   "source": [
    "type(True)"
   ]
  },
  {
   "cell_type": "code",
   "execution_count": 6,
   "id": "outstanding-attitude",
   "metadata": {},
   "outputs": [
    {
     "data": {
      "text/plain": [
       "1"
      ]
     },
     "execution_count": 6,
     "metadata": {},
     "output_type": "execute_result"
    }
   ],
   "source": [
    "int(True)"
   ]
  },
  {
   "cell_type": "code",
   "execution_count": 7,
   "id": "acute-creator",
   "metadata": {},
   "outputs": [
    {
     "data": {
      "text/plain": [
       "True"
      ]
     },
     "execution_count": 7,
     "metadata": {},
     "output_type": "execute_result"
    }
   ],
   "source": [
    "bool(1)"
   ]
  },
  {
   "cell_type": "code",
   "execution_count": 8,
   "id": "portuguese-beatles",
   "metadata": {},
   "outputs": [
    {
     "name": "stdout",
     "output_type": "stream",
     "text": [
      "3.8.5 (tags/v3.8.5:580fbb0, Jul 20 2020, 15:43:08) [MSC v.1926 32 bit (Intel)]\n"
     ]
    }
   ],
   "source": [
    "import sys\n",
    "print(sys.version)"
   ]
  },
  {
   "cell_type": "markdown",
   "id": "fantastic-oasis",
   "metadata": {},
   "source": [
    "<hr>\n",
    "<h2>Hello</h2>\n",
    "<p>This is embedded HTML code</p>"
   ]
  },
  {
   "cell_type": "code",
   "execution_count": 9,
   "id": "increased-listening",
   "metadata": {},
   "outputs": [
    {
     "data": {
      "text/plain": [
       "'a'"
      ]
     },
     "execution_count": 9,
     "metadata": {},
     "output_type": "execute_result"
    }
   ],
   "source": [
    "name = 'Usama'\n",
    "name[2]"
   ]
  },
  {
   "cell_type": "code",
   "execution_count": 10,
   "id": "smaller-rescue",
   "metadata": {},
   "outputs": [
    {
     "data": {
      "text/plain": [
       "'Usa'"
      ]
     },
     "execution_count": 10,
     "metadata": {},
     "output_type": "execute_result"
    }
   ],
   "source": [
    "name[0:3]"
   ]
  },
  {
   "cell_type": "code",
   "execution_count": 11,
   "id": "physical-thousand",
   "metadata": {},
   "outputs": [
    {
     "data": {
      "text/plain": [
       "'a'"
      ]
     },
     "execution_count": 11,
     "metadata": {},
     "output_type": "execute_result"
    }
   ],
   "source": [
    "name[-1]"
   ]
  },
  {
   "cell_type": "code",
   "execution_count": 12,
   "id": "academic-wheat",
   "metadata": {},
   "outputs": [
    {
     "data": {
      "text/plain": [
       "'am'"
      ]
     },
     "execution_count": 12,
     "metadata": {},
     "output_type": "execute_result"
    }
   ],
   "source": [
    "newName  = name[2:4] \n",
    "newName"
   ]
  },
  {
   "cell_type": "code",
   "execution_count": 13,
   "id": "acting-energy",
   "metadata": {},
   "outputs": [
    {
     "data": {
      "text/plain": [
       "'Uaa'"
      ]
     },
     "execution_count": 13,
     "metadata": {},
     "output_type": "execute_result"
    }
   ],
   "source": [
    "name[::2]"
   ]
  },
  {
   "cell_type": "code",
   "execution_count": 14,
   "id": "analyzed-kansas",
   "metadata": {},
   "outputs": [
    {
     "data": {
      "text/plain": [
       "'UmA a'"
      ]
     },
     "execution_count": 14,
     "metadata": {},
     "output_type": "execute_result"
    }
   ],
   "source": [
    "name = 'Usama Ali Khan'\n",
    "name[::3]"
   ]
  },
  {
   "cell_type": "code",
   "execution_count": 15,
   "id": "worth-outdoors",
   "metadata": {},
   "outputs": [
    {
     "data": {
      "text/plain": [
       "'Uaa'"
      ]
     },
     "execution_count": 15,
     "metadata": {},
     "output_type": "execute_result"
    }
   ],
   "source": [
    "name[0:5:2]"
   ]
  },
  {
   "cell_type": "code",
   "execution_count": 16,
   "id": "agricultural-salad",
   "metadata": {},
   "outputs": [
    {
     "data": {
      "text/plain": [
       "14"
      ]
     },
     "execution_count": 16,
     "metadata": {},
     "output_type": "execute_result"
    }
   ],
   "source": [
    "len(name)"
   ]
  },
  {
   "cell_type": "code",
   "execution_count": 17,
   "id": "registered-twelve",
   "metadata": {},
   "outputs": [],
   "source": [
    "stat = name + ' khan'"
   ]
  },
  {
   "cell_type": "code",
   "execution_count": 18,
   "id": "conscious-manhattan",
   "metadata": {},
   "outputs": [
    {
     "data": {
      "text/plain": [
       "'Usama Ali Khan khan'"
      ]
     },
     "execution_count": 18,
     "metadata": {},
     "output_type": "execute_result"
    }
   ],
   "source": [
    "stat"
   ]
  },
  {
   "cell_type": "code",
   "execution_count": 19,
   "id": "charming-medline",
   "metadata": {},
   "outputs": [
    {
     "data": {
      "text/plain": [
       "'Usama Ali KhanUsama Ali KhanUsama Ali Khan'"
      ]
     },
     "execution_count": 19,
     "metadata": {},
     "output_type": "execute_result"
    }
   ],
   "source": [
    "3*name"
   ]
  },
  {
   "cell_type": "code",
   "execution_count": 20,
   "id": "pharmaceutical-jerusalem",
   "metadata": {},
   "outputs": [
    {
     "name": "stdout",
     "output_type": "stream",
     "text": [
      "Usama is \n",
      " the \t \\best\n"
     ]
    }
   ],
   "source": [
    "print('Usama is \\n the \\t \\\\best')"
   ]
  },
  {
   "cell_type": "code",
   "execution_count": 21,
   "id": "passing-origin",
   "metadata": {},
   "outputs": [
    {
     "name": "stdout",
     "output_type": "stream",
     "text": [
      "USAMA ALI KHAN\n"
     ]
    }
   ],
   "source": [
    "print(name.upper())"
   ]
  },
  {
   "cell_type": "code",
   "execution_count": 22,
   "id": "becoming-canyon",
   "metadata": {},
   "outputs": [
    {
     "name": "stdout",
     "output_type": "stream",
     "text": [
      "Hammad Ahmad Khan\n"
     ]
    }
   ],
   "source": [
    "print(name.replace('Usama Ali','Hammad Ahmad'))"
   ]
  },
  {
   "cell_type": "code",
   "execution_count": 23,
   "id": "joined-legislature",
   "metadata": {},
   "outputs": [
    {
     "data": {
      "text/plain": [
       "'Usama Ali Khan'"
      ]
     },
     "execution_count": 23,
     "metadata": {},
     "output_type": "execute_result"
    }
   ],
   "source": [
    "name"
   ]
  },
  {
   "cell_type": "code",
   "execution_count": 24,
   "id": "changing-halloween",
   "metadata": {},
   "outputs": [
    {
     "name": "stdout",
     "output_type": "stream",
     "text": [
      "2\n"
     ]
    }
   ],
   "source": [
    "print(name.find('ama'))"
   ]
  },
  {
   "cell_type": "code",
   "execution_count": 25,
   "id": "sticky-nickel",
   "metadata": {},
   "outputs": [
    {
     "data": {
      "text/plain": [
       "'0246'"
      ]
     },
     "execution_count": 25,
     "metadata": {},
     "output_type": "execute_result"
    }
   ],
   "source": [
    "n = '0123456'\n",
    "n[::2]"
   ]
  },
  {
   "cell_type": "code",
   "execution_count": 26,
   "id": "existing-damages",
   "metadata": {},
   "outputs": [
    {
     "data": {
      "text/plain": [
       "7"
      ]
     },
     "execution_count": 26,
     "metadata": {},
     "output_type": "execute_result"
    }
   ],
   "source": [
    "3+2*2"
   ]
  },
  {
   "cell_type": "code",
   "execution_count": 27,
   "id": "gothic-header",
   "metadata": {},
   "outputs": [
    {
     "name": "stdout",
     "output_type": "stream",
     "text": [
      "Li\n"
     ]
    }
   ],
   "source": [
    "name = 'Lizz'\n",
    "print(name[0:2])"
   ]
  },
  {
   "cell_type": "code",
   "execution_count": 28,
   "id": "removed-presentation",
   "metadata": {},
   "outputs": [
    {
     "name": "stdout",
     "output_type": "stream",
     "text": [
      "08\n"
     ]
    }
   ],
   "source": [
    "var = '012345678'\n",
    "print(var[::8])"
   ]
  },
  {
   "cell_type": "markdown",
   "id": "authentic-johns",
   "metadata": {},
   "source": [
    "<h3>Lists and Tuples</h3>\n",
    "<p>This section will discuss lists and tuples</p>"
   ]
  },
  {
   "cell_type": "code",
   "execution_count": 29,
   "id": "encouraging-relation",
   "metadata": {},
   "outputs": [
    {
     "data": {
      "text/plain": [
       "tuple"
      ]
     },
     "execution_count": 29,
     "metadata": {},
     "output_type": "execute_result"
    }
   ],
   "source": [
    "tuple1 = (1,2,3,4,5,6)\n",
    "type(tuple1)"
   ]
  },
  {
   "cell_type": "code",
   "execution_count": 30,
   "id": "meaning-bahamas",
   "metadata": {},
   "outputs": [
    {
     "data": {
      "text/plain": [
       "(1, 2, 3, 4, 5, 6, 7, 8, 9, 'Hey')"
      ]
     },
     "execution_count": 30,
     "metadata": {},
     "output_type": "execute_result"
    }
   ],
   "source": [
    "tuple2 = tuple1 + (7,8,9,'Hey')\n",
    "tuple2"
   ]
  },
  {
   "cell_type": "code",
   "execution_count": 31,
   "id": "intellectual-diana",
   "metadata": {},
   "outputs": [
    {
     "data": {
      "text/plain": [
       "(1, 2, 3)"
      ]
     },
     "execution_count": 31,
     "metadata": {},
     "output_type": "execute_result"
    }
   ],
   "source": [
    "tuple2[0:3]"
   ]
  },
  {
   "cell_type": "code",
   "execution_count": 32,
   "id": "unable-composition",
   "metadata": {},
   "outputs": [
    {
     "data": {
      "text/plain": [
       "(8, 9, 'Hey')"
      ]
     },
     "execution_count": 32,
     "metadata": {},
     "output_type": "execute_result"
    }
   ],
   "source": [
    "tuple2[7:len(tuple2)]"
   ]
  },
  {
   "cell_type": "code",
   "execution_count": 33,
   "id": "forced-reader",
   "metadata": {},
   "outputs": [
    {
     "data": {
      "text/plain": [
       "[1, 2, 2, 4, 6, 6, 8, 8, 9]"
      ]
     },
     "execution_count": 33,
     "metadata": {},
     "output_type": "execute_result"
    }
   ],
   "source": [
    "Ratings = (8,6,2,4,8,1,2,9,6)\n",
    "sortedRatings = sorted(Ratings)\n",
    "sortedRatings"
   ]
  },
  {
   "cell_type": "code",
   "execution_count": 34,
   "id": "leading-mandate",
   "metadata": {},
   "outputs": [
    {
     "data": {
      "text/plain": [
       "['Usama', 10.1, 1982]"
      ]
     },
     "execution_count": 34,
     "metadata": {},
     "output_type": "execute_result"
    }
   ],
   "source": [
    "#Lists\n",
    "l = ['Usama', 10.1, 1982]\n",
    "l"
   ]
  },
  {
   "cell_type": "code",
   "execution_count": 35,
   "id": "preliminary-liquid",
   "metadata": {},
   "outputs": [
    {
     "data": {
      "text/plain": [
       "['Usama', 10.1, 1982, 1, ['Hey', 'Its me'], 'a', 2]"
      ]
     },
     "execution_count": 35,
     "metadata": {},
     "output_type": "execute_result"
    }
   ],
   "source": [
    "l += [1,['Hey','Its me'], 'a', 2]\n",
    "l"
   ]
  },
  {
   "cell_type": "code",
   "execution_count": 36,
   "id": "successful-tuning",
   "metadata": {},
   "outputs": [
    {
     "data": {
      "text/plain": [
       "'Its me'"
      ]
     },
     "execution_count": 36,
     "metadata": {},
     "output_type": "execute_result"
    }
   ],
   "source": [
    "l[4][1]"
   ]
  },
  {
   "cell_type": "code",
   "execution_count": 37,
   "id": "remarkable-carbon",
   "metadata": {},
   "outputs": [
    {
     "data": {
      "text/plain": [
       "[['Hey', 'Its me'], 'a', 2]"
      ]
     },
     "execution_count": 37,
     "metadata": {},
     "output_type": "execute_result"
    }
   ],
   "source": [
    "l[4:len(l)]"
   ]
  },
  {
   "cell_type": "code",
   "execution_count": 38,
   "id": "separated-cruise",
   "metadata": {},
   "outputs": [
    {
     "data": {
      "text/plain": [
       "['Usama', 10.1, 1982, 1, ['Hey', 'Its me'], 'a', 2]"
      ]
     },
     "execution_count": 38,
     "metadata": {},
     "output_type": "execute_result"
    }
   ],
   "source": [
    "l"
   ]
  },
  {
   "cell_type": "code",
   "execution_count": 39,
   "id": "vital-defense",
   "metadata": {},
   "outputs": [],
   "source": [
    "l[0] = 'Usama '"
   ]
  },
  {
   "cell_type": "code",
   "execution_count": 40,
   "id": "limited-jewelry",
   "metadata": {},
   "outputs": [
    {
     "data": {
      "text/plain": [
       "['Usama ', 10.1, 1982, 1, ['Hey', 'Its me'], 'a', 2]"
      ]
     },
     "execution_count": 40,
     "metadata": {},
     "output_type": "execute_result"
    }
   ],
   "source": [
    "l"
   ]
  },
  {
   "cell_type": "code",
   "execution_count": 41,
   "id": "agricultural-conditioning",
   "metadata": {},
   "outputs": [
    {
     "data": {
      "text/plain": [
       "[1982, 1, ['Hey', 'Its me'], 'a', 2]"
      ]
     },
     "execution_count": 41,
     "metadata": {},
     "output_type": "execute_result"
    }
   ],
   "source": [
    "del(l[0:2])\n",
    "l"
   ]
  },
  {
   "cell_type": "code",
   "execution_count": 42,
   "id": "cloudy-inventory",
   "metadata": {},
   "outputs": [],
   "source": [
    "#string to list\n",
    "name = 'Usama Ali Khan'\n",
    "newName = name.split()"
   ]
  },
  {
   "cell_type": "code",
   "execution_count": 43,
   "id": "centered-louisville",
   "metadata": {},
   "outputs": [
    {
     "data": {
      "text/plain": [
       "list"
      ]
     },
     "execution_count": 43,
     "metadata": {},
     "output_type": "execute_result"
    }
   ],
   "source": [
    "type(newName)"
   ]
  },
  {
   "cell_type": "code",
   "execution_count": 44,
   "id": "outdoor-flour",
   "metadata": {},
   "outputs": [
    {
     "data": {
      "text/plain": [
       "list"
      ]
     },
     "execution_count": 44,
     "metadata": {},
     "output_type": "execute_result"
    }
   ],
   "source": [
    "test = \"A,B,B,C,D\"\n",
    "test = test.split(',')\n",
    "type(test)"
   ]
  },
  {
   "cell_type": "code",
   "execution_count": 45,
   "id": "proud-stroke",
   "metadata": {},
   "outputs": [],
   "source": [
    "clone = test[:]"
   ]
  },
  {
   "cell_type": "code",
   "execution_count": 46,
   "id": "completed-rabbit",
   "metadata": {},
   "outputs": [
    {
     "data": {
      "text/plain": [
       "['A', 'B', 'B', 'C', 'D']"
      ]
     },
     "execution_count": 46,
     "metadata": {},
     "output_type": "execute_result"
    }
   ],
   "source": [
    "clone"
   ]
  },
  {
   "cell_type": "markdown",
   "id": "second-buffer",
   "metadata": {},
   "source": [
    "<h2>Sets</h2>\n",
    "<p>This section will talk about sets in python</p>"
   ]
  },
  {
   "cell_type": "code",
   "execution_count": 52,
   "id": "senior-wrestling",
   "metadata": {},
   "outputs": [
    {
     "data": {
      "text/plain": [
       "{1982, 'Micheal', 'Thriller'}"
      ]
     },
     "execution_count": 52,
     "metadata": {},
     "output_type": "execute_result"
    }
   ],
   "source": [
    "album_list = [\"Micheal\", \"Thriller\",\"Thriller\",1982]\n",
    "album_set = set(album_list)\n",
    "album_set"
   ]
  },
  {
   "cell_type": "code",
   "execution_count": 53,
   "id": "genetic-abortion",
   "metadata": {},
   "outputs": [],
   "source": [
    "album_set.add('USama Ali Khan')"
   ]
  },
  {
   "cell_type": "code",
   "execution_count": 54,
   "id": "agreed-azerbaijan",
   "metadata": {},
   "outputs": [],
   "source": [
    "album_set.remove('Micheal')"
   ]
  },
  {
   "cell_type": "code",
   "execution_count": 55,
   "id": "corresponding-pepper",
   "metadata": {},
   "outputs": [
    {
     "data": {
      "text/plain": [
       "{1982, 'Thriller', 'USama Ali Khan'}"
      ]
     },
     "execution_count": 55,
     "metadata": {},
     "output_type": "execute_result"
    }
   ],
   "source": [
    "album_set"
   ]
  },
  {
   "cell_type": "code",
   "execution_count": 57,
   "id": "residential-russian",
   "metadata": {},
   "outputs": [
    {
     "data": {
      "text/plain": [
       "True"
      ]
     },
     "execution_count": 57,
     "metadata": {},
     "output_type": "execute_result"
    }
   ],
   "source": [
    "1982 in  album_set"
   ]
  },
  {
   "cell_type": "code",
   "execution_count": 60,
   "id": "adopted-series",
   "metadata": {},
   "outputs": [],
   "source": [
    "album_set2 = {\"Hammad Ahmad Khan\", \"Thriller\", 1995}"
   ]
  },
  {
   "cell_type": "code",
   "execution_count": 65,
   "id": "spectacular-physiology",
   "metadata": {},
   "outputs": [
    {
     "data": {
      "text/plain": [
       "{'Thriller'}"
      ]
     },
     "execution_count": 65,
     "metadata": {},
     "output_type": "execute_result"
    }
   ],
   "source": [
    "#intersection between two sets can be used using &\n",
    "album_set_intersection = album_set & album_set2\n",
    "album_set_intersection"
   ]
  },
  {
   "cell_type": "code",
   "execution_count": 66,
   "id": "attached-marriage",
   "metadata": {},
   "outputs": [
    {
     "data": {
      "text/plain": [
       "{1982, 1995, 'Hammad Ahmad Khan', 'Thriller', 'USama Ali Khan'}"
      ]
     },
     "execution_count": 66,
     "metadata": {},
     "output_type": "execute_result"
    }
   ],
   "source": [
    "#Union between two sets\n",
    "album_set_union = album_set.union(album_set2)\n",
    "album_set_union"
   ]
  },
  {
   "cell_type": "markdown",
   "id": "wireless-occasion",
   "metadata": {},
   "source": [
    "<h2>Dictionaries</h2>\n",
    "<p>Dictionaries are types of collections in python</p>"
   ]
  },
  {
   "cell_type": "code",
   "execution_count": 1,
   "id": "serial-plastic",
   "metadata": {},
   "outputs": [],
   "source": [
    "myDictionary ={'Thriller':1982, 'Back in Black':1980, 'The Dark Side of the moon': 1973, 'The bodyguard': 1992}"
   ]
  },
  {
   "cell_type": "code",
   "execution_count": 3,
   "id": "measured-northeast",
   "metadata": {},
   "outputs": [
    {
     "data": {
      "text/plain": [
       "{'Thriller': 1982,\n",
       " 'Back in Black': 1980,\n",
       " 'The Dark Side of the moon': 1973,\n",
       " 'The bodyguard': 1992}"
      ]
     },
     "execution_count": 3,
     "metadata": {},
     "output_type": "execute_result"
    }
   ],
   "source": [
    "myDictionary"
   ]
  },
  {
   "cell_type": "code",
   "execution_count": 4,
   "id": "arctic-trigger",
   "metadata": {},
   "outputs": [
    {
     "data": {
      "text/plain": [
       "1992"
      ]
     },
     "execution_count": 4,
     "metadata": {},
     "output_type": "execute_result"
    }
   ],
   "source": [
    "myDictionary['The bodyguard']"
   ]
  },
  {
   "cell_type": "code",
   "execution_count": 5,
   "id": "integral-batch",
   "metadata": {},
   "outputs": [],
   "source": [
    "myDictionary['Graduation'] = '2021'"
   ]
  },
  {
   "cell_type": "code",
   "execution_count": 6,
   "id": "peaceful-scott",
   "metadata": {},
   "outputs": [
    {
     "data": {
      "text/plain": [
       "{'Thriller': 1982,\n",
       " 'Back in Black': 1980,\n",
       " 'The Dark Side of the moon': 1973,\n",
       " 'The bodyguard': 1992,\n",
       " 'Graduation': '2021'}"
      ]
     },
     "execution_count": 6,
     "metadata": {},
     "output_type": "execute_result"
    }
   ],
   "source": [
    "myDictionary"
   ]
  },
  {
   "cell_type": "code",
   "execution_count": 7,
   "id": "permanent-florida",
   "metadata": {},
   "outputs": [
    {
     "data": {
      "text/plain": [
       "{'Back in Black': 1980,\n",
       " 'The Dark Side of the moon': 1973,\n",
       " 'The bodyguard': 1992,\n",
       " 'Graduation': '2021'}"
      ]
     },
     "execution_count": 7,
     "metadata": {},
     "output_type": "execute_result"
    }
   ],
   "source": [
    "del(myDictionary['Thriller'])\n",
    "myDictionary"
   ]
  },
  {
   "cell_type": "code",
   "execution_count": 8,
   "id": "artistic-consent",
   "metadata": {},
   "outputs": [
    {
     "data": {
      "text/plain": [
       "True"
      ]
     },
     "execution_count": 8,
     "metadata": {},
     "output_type": "execute_result"
    }
   ],
   "source": [
    "'Back in Black' in myDictionary"
   ]
  },
  {
   "cell_type": "code",
   "execution_count": 9,
   "id": "portuguese-percentage",
   "metadata": {},
   "outputs": [
    {
     "data": {
      "text/plain": [
       "dict_keys(['Back in Black', 'The Dark Side of the moon', 'The bodyguard', 'Graduation'])"
      ]
     },
     "execution_count": 9,
     "metadata": {},
     "output_type": "execute_result"
    }
   ],
   "source": [
    "myDictionary.keys()"
   ]
  },
  {
   "cell_type": "code",
   "execution_count": 10,
   "id": "cutting-cleveland",
   "metadata": {},
   "outputs": [
    {
     "data": {
      "text/plain": [
       "dict_values([1980, 1973, 1992, '2021'])"
      ]
     },
     "execution_count": 10,
     "metadata": {},
     "output_type": "execute_result"
    }
   ],
   "source": [
    "myDictionary.values()"
   ]
  },
  {
   "cell_type": "code",
   "execution_count": 1,
   "id": "final-ecology",
   "metadata": {},
   "outputs": [],
   "source": [
    "Dict={\"A\":1,\"B\":\"2\",\"C\":[3,3,3],\"D\":(4,4,4),'E':5,'F':6}"
   ]
  },
  {
   "cell_type": "code",
   "execution_count": 2,
   "id": "adjusted-restaurant",
   "metadata": {},
   "outputs": [
    {
     "data": {
      "text/plain": [
       "(4, 4, 4)"
      ]
     },
     "execution_count": 2,
     "metadata": {},
     "output_type": "execute_result"
    }
   ],
   "source": [
    "Dict[\"D\"]"
   ]
  },
  {
   "cell_type": "code",
   "execution_count": null,
   "id": "based-techno",
   "metadata": {},
   "outputs": [],
   "source": []
  }
 ],
 "metadata": {
  "kernelspec": {
   "display_name": "Python 3",
   "language": "python",
   "name": "python3"
  },
  "language_info": {
   "codemirror_mode": {
    "name": "ipython",
    "version": 3
   },
   "file_extension": ".py",
   "mimetype": "text/x-python",
   "name": "python",
   "nbconvert_exporter": "python",
   "pygments_lexer": "ipython3",
   "version": "3.8.5"
  }
 },
 "nbformat": 4,
 "nbformat_minor": 5
}
